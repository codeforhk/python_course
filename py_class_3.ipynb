{
  "nbformat": 4,
  "nbformat_minor": 0,
  "metadata": {
    "colab": {
      "name": "py_class_3.ipynb",
      "provenance": [],
      "collapsed_sections": [
        "UZysvTpDeq8c",
        "axYPsKaqeq8e",
        "rR3Mw2K-eq8k",
        "cYm-fUXTeq9G",
        "uEPaO83neq9O",
        "tNHM94A0eq9Q",
        "MEDm0bF-eq9S",
        "QbCSljwYeq9V",
        "_VJVTVx6eq9V",
        "jHZmko0Eeq9X",
        "Y3TzmFS1eq9a",
        "GQVnbwPgeq9c",
        "Qvm5ip48eq9e",
        "t6Sn2Y_leq9e",
        "IXb0tBvheq9s",
        "pRGo6doPeq9u",
        "IfWfAUgneq9z",
        "0_lrp6Uveq99",
        "CLs3C6qxeq-B",
        "_jZEML1heq-G",
        "8l9Ox5nEeq-N",
        "MYMTDFUyeq-V",
        "5DKaMx0Xeq-d",
        "heuyIVbWeq-j",
        "bJ4QBNrCeq-n",
        "WqgNLVaceq-1",
        "6ro-6eVkeq-5",
        "JX6NSV7Ieq-8",
        "WlDvGqjIeq_B",
        "8SuFhWOUeq_G",
        "oIfoiGe0eq_H",
        "TTJOZJdneq_I",
        "StXbl1toeq_M",
        "3zJtuP2ieq_O",
        "HdYdFcdTeq_P",
        "cVa4D96peq_U",
        "6EgP_u5oeq_V",
        "gUQbPbHOeq_W",
        "VdxxwBf3eq_b",
        "Ekg_RLTueq_f",
        "6qSWfivneq_g",
        "sH_XwaZGeq_q",
        "s02P4S-Weq_r",
        "v6sIQVYaeq_t",
        "eod0452beq_w",
        "Rl_KMJA8eq_y",
        "LLNXaxezeq_0",
        "AKE0X-ppeq_6",
        "JSv4iMtieq_8",
        "0q8x8tyxeq__",
        "cDUea5oAerAA",
        "oMbs1uKLerAC",
        "YJG-i3iGerAE",
        "-SXuNJi_erAK",
        "yfNa9tXGerAN",
        "pKR76FPverAP",
        "J-4Z9g5lerAU",
        "d4y1BBG4erAX",
        "stmCtMCferAb",
        "0HgQG8YjerAn",
        "icNg_6HgerAo",
        "_N4eIFgserAr",
        "FvJZ8saNerAu",
        "oh0Xv8FnerAw",
        "tVhMYLWkerA0",
        "fLBZWqvMerA4",
        "j9kHjlSeerA6",
        "dRZKEuU_erA6",
        "xIwG_Uj3erBB",
        "YYtsCbJperBD",
        "oWl0Ha2RerBD"
      ],
      "toc_visible": true,
      "include_colab_link": true
    },
    "kernelspec": {
      "display_name": "Python 3",
      "language": "python",
      "name": "python3"
    }
  },
  "cells": [
    {
      "cell_type": "markdown",
      "metadata": {
        "id": "view-in-github",
        "colab_type": "text"
      },
      "source": [
        "<a href=\"https://colab.research.google.com/github/codeforhk/python_course/blob/master/py_class_3.ipynb\" target=\"_parent\"><img src=\"https://colab.research.google.com/assets/colab-badge.svg\" alt=\"Open In Colab\"/></a>"
      ]
    },
    {
      "cell_type": "markdown",
      "metadata": {
        "id": "E_I6QftesBvW",
        "colab_type": "text"
      },
      "source": [
        "\n",
        "    \n",
        "<img src=\"https://www.codefor.hk/wp-content/themes/DC_CUSTOM_THEME/img/logo-code-for-hk-logo.svg\" height=\"150\" width=\"150\"  align=\"center\"/>\n",
        "<h1><center>Code For Hong Kong - Python class 3</center></h1>\n",
        "<h6><center>Written by Patrick Leung</center></h6>"
      ]
    },
    {
      "cell_type": "markdown",
      "metadata": {
        "colab_type": "text",
        "id": "3GavFz5PrKrl"
      },
      "source": [
        "# 6.0.0 Python Functions\n"
      ]
    },
    {
      "cell_type": "markdown",
      "metadata": {
        "id": "TSvMVattlyoZ",
        "colab_type": "text"
      },
      "source": [
        "## 6.1.0 What is a function?"
      ]
    },
    {
      "cell_type": "markdown",
      "metadata": {
        "id": "tBDnBw0t5G3T",
        "colab_type": "text"
      },
      "source": [
        "A function is a block of organized, reusable code that is used to perform a single, related action. Functions provide better modularity for your application and a high degree of code reusing.\n",
        "\n",
        " You’re already familiar with the print(), input(), and len() functions from the previous chapters. Python provides several builtin functions like these, but you can also write your own functions.  These functions are called user-defined functions.\n"
      ]
    },
    {
      "cell_type": "markdown",
      "metadata": {
        "id": "RltB37Zzo4Tg",
        "colab_type": "text"
      },
      "source": [
        "\n",
        "![Image of Yaktocat](https://cdn-learn.adafruit.com/assets/assets/000/058/742/medium800/circuitpython_function-big.png?1533749193)\n",
        "\n",
        "\n",
        "\n",
        "\n"
      ]
    },
    {
      "cell_type": "markdown",
      "metadata": {
        "id": "wy7v4YkZp-hK",
        "colab_type": "text"
      },
      "source": [
        "![Image of Yaktocat](https://d2h0cx97tjks2p.cloudfront.net/blogs/wp-content/uploads/sites/2/2018/01/Python-Functions.jpg)\n",
        "\n",
        "\n",
        "\n"
      ]
    },
    {
      "cell_type": "markdown",
      "metadata": {
        "id": "Q7nHGC3FOHrR",
        "colab_type": "text"
      },
      "source": [
        "## 6.2.0 The structure and syntax of a function"
      ]
    },
    {
      "cell_type": "markdown",
      "metadata": {
        "id": "fC34WwIj5NHb",
        "colab_type": "text"
      },
      "source": [
        "- Function blocks begin with the keyword def followed by the function name and parentheses ( ( ) ).\n",
        "\n",
        "- Any input parameters or arguments should be placed within these parentheses. You can also define parameters inside these parentheses.\n",
        "\n",
        "- The first statement of a function can be an optional statement - the documentation string of the function or docstring.\n",
        "\n",
        "- The code block within every function starts with a colon (:) and is indented.\n",
        "\n",
        "- The statement return [expression] exits a function, optionally passing back an expression to the caller. A return statement with no arguments is the same as return None.\n",
        "\n",
        "\n"
      ]
    },
    {
      "cell_type": "markdown",
      "metadata": {
        "id": "7IcmOIYWos-K",
        "colab_type": "text"
      },
      "source": [
        "![Image of Yaktocat](https://swcarpentry.github.io/python-novice-inflammation/fig/python-function.svg)\n",
        "\n"
      ]
    },
    {
      "cell_type": "code",
      "metadata": {
        "id": "soAzgs81szOq",
        "colab_type": "code",
        "outputId": "7bd2d83f-f214-4965-a4c8-2f73fa17bd92",
        "colab": {
          "base_uri": "https://localhost:8080/",
          "height": 34
        }
      },
      "source": [
        "def fahr_to_celsius(temp):\n",
        "    return ((temp - 32)) * (5/9)\n",
        "\n",
        "fahr_to_celsius(100)    "
      ],
      "execution_count": 0,
      "outputs": [
        {
          "output_type": "execute_result",
          "data": {
            "text/plain": [
              "37.77777777777778"
            ]
          },
          "metadata": {
            "tags": []
          },
          "execution_count": 35
        }
      ]
    },
    {
      "cell_type": "markdown",
      "metadata": {
        "id": "ZBp00ReqrRsO",
        "colab_type": "text"
      },
      "source": [
        "### 6.2.1 The syntax of function"
      ]
    },
    {
      "cell_type": "markdown",
      "metadata": {
        "id": "HSYiyguPpNPU",
        "colab_type": "text"
      },
      "source": [
        "![Image of Yaktocat](http://www.informit.com/content/images/chap2_9780134076430/elementLinks/p0215_01.jpg)\n",
        "\n",
        "\n"
      ]
    },
    {
      "cell_type": "markdown",
      "metadata": {
        "id": "vY6UEg8YrWBO",
        "colab_type": "text"
      },
      "source": [
        "To make it more coder friendly, this is how it looks like in a code format"
      ]
    },
    {
      "cell_type": "code",
      "metadata": {
        "id": "q5mHE4ctd-Y9",
        "colab_type": "code",
        "colab": {}
      },
      "source": [
        "def function-name(Parameter list):\n",
        "    statements, i.e. the function body"
      ],
      "execution_count": 0,
      "outputs": []
    },
    {
      "cell_type": "markdown",
      "metadata": {
        "id": "lSh1rSk-r6-q",
        "colab_type": "text"
      },
      "source": [
        "#### Example 6.2.1\n",
        "\n",
        "Try write a function to return the sum of 2 number"
      ]
    },
    {
      "cell_type": "code",
      "metadata": {
        "id": "-v9acE9KsEM4",
        "colab_type": "code",
        "outputId": "a5c6a83e-130a-4a5a-ea6b-88f30733dd34",
        "colab": {
          "base_uri": "https://localhost:8080/",
          "height": 34
        }
      },
      "source": [
        "def sum_of_two_number( a, b):\n",
        "  return a+b\n",
        "\n",
        "# to call the function\n",
        "sum_2(1,2)"
      ],
      "execution_count": 0,
      "outputs": [
        {
          "output_type": "execute_result",
          "data": {
            "text/plain": [
              "3"
            ]
          },
          "metadata": {
            "tags": []
          },
          "execution_count": 33
        }
      ]
    },
    {
      "cell_type": "markdown",
      "metadata": {
        "id": "Nnu6HsZxsNdQ",
        "colab_type": "text"
      },
      "source": [
        "#### Exercise 6.2.1\n",
        "\n",
        "Try write a function to return the multiple of 3 numbers"
      ]
    },
    {
      "cell_type": "code",
      "metadata": {
        "id": "CzA2cI4isUnV",
        "colab_type": "code",
        "colab": {}
      },
      "source": [
        "def mult_three_number():\n",
        "    # some logic\n",
        "    return "
      ],
      "execution_count": 0,
      "outputs": []
    },
    {
      "cell_type": "markdown",
      "metadata": {
        "id": "ao-WGFCXshOr",
        "colab_type": "text"
      },
      "source": [
        "## 6.2.2 Parameters of function\n",
        "\n",
        "If you think about it, function is just a wrapper of a logic, with the input as parameter, and output as return"
      ]
    },
    {
      "cell_type": "markdown",
      "metadata": {
        "id": "QumlRkUNusSP",
        "colab_type": "text"
      },
      "source": [
        "#### Example 6.2.2"
      ]
    },
    {
      "cell_type": "code",
      "metadata": {
        "id": "rj6nVA1DtAF2",
        "colab_type": "code",
        "outputId": "1271a7bd-2e2b-47ac-af2f-a48341f40ecd",
        "colab": {
          "base_uri": "https://localhost:8080/",
          "height": 34
        }
      },
      "source": [
        "# a function can still work without a parameter\n",
        "\n",
        "def jay_chou():\n",
        "  return \"is by default, cool\"\n",
        "\n",
        "anushree()"
      ],
      "execution_count": 0,
      "outputs": [
        {
          "output_type": "execute_result",
          "data": {
            "text/plain": [
              "'is by default, cool'"
            ]
          },
          "metadata": {
            "tags": []
          },
          "execution_count": 37
        }
      ]
    },
    {
      "cell_type": "code",
      "metadata": {
        "id": "Bo9N1Go7str1",
        "colab_type": "code",
        "outputId": "8afef7ea-3634-4857-8140-9266144195f7",
        "colab": {
          "base_uri": "https://localhost:8080/",
          "height": 34
        }
      },
      "source": [
        "# a function can work with an input parameter, or even multiple\n",
        "\n",
        "def jay_chou( profession):\n",
        "  if profession == 'singer':\n",
        "      return \"is cool\"\n",
        "  else:\n",
        "      return \"he sucks when he doesn't sing\"\n",
        "\n",
        "jay_chou('singer')"
      ],
      "execution_count": 0,
      "outputs": [
        {
          "output_type": "execute_result",
          "data": {
            "text/plain": [
              "'is cool'"
            ]
          },
          "metadata": {
            "tags": []
          },
          "execution_count": 38
        }
      ]
    },
    {
      "cell_type": "code",
      "metadata": {
        "id": "Yq_QIDEgth_-",
        "colab_type": "code",
        "outputId": "a9bf447a-06b6-442c-9a36-2f0bd3ccab62",
        "colab": {
          "base_uri": "https://localhost:8080/",
          "height": 34
        }
      },
      "source": [
        "# or you can do this\n",
        "\n",
        "jay_chou(profession = 'singer')"
      ],
      "execution_count": 0,
      "outputs": [
        {
          "output_type": "execute_result",
          "data": {
            "text/plain": [
              "'is cool'"
            ]
          },
          "metadata": {
            "tags": []
          },
          "execution_count": 39
        }
      ]
    },
    {
      "cell_type": "code",
      "metadata": {
        "id": "JqGwFZcJtlx3",
        "colab_type": "code",
        "colab": {}
      },
      "source": [
        "# You can also add a default variable. Here I set him to be a singer by default\n",
        "\n",
        "def jay_chou( profession = 'singer'):\n",
        "  if profession == 'singer':\n",
        "      return \"is cool\"\n",
        "  else:\n",
        "      return \"he sucks when he doesn't sing\""
      ],
      "execution_count": 0,
      "outputs": []
    },
    {
      "cell_type": "code",
      "metadata": {
        "id": "ZANOSAketwTq",
        "colab_type": "code",
        "outputId": "39a9af69-dc0f-45b0-e8c6-00c697cb2245",
        "colab": {
          "base_uri": "https://localhost:8080/",
          "height": 34
        }
      },
      "source": [
        "# You can also add multiple variable\n",
        "\n",
        "def jay_chou(year, profession = 'singer'):\n",
        "  if year > 2010:\n",
        "      return \"his song sucks after 2010\"\n",
        "      \n",
        "  if profession == 'singer':\n",
        "      return \"is cool\"\n",
        "  else:\n",
        "      return \"he sucks when he doesn't sing\"\n",
        "    \n",
        "jay_chou(2009, 'singer')"
      ],
      "execution_count": 0,
      "outputs": [
        {
          "output_type": "execute_result",
          "data": {
            "text/plain": [
              "'is cool'"
            ]
          },
          "metadata": {
            "tags": []
          },
          "execution_count": 43
        }
      ]
    },
    {
      "cell_type": "markdown",
      "metadata": {
        "id": "Yl99-mZHd_XN",
        "colab_type": "text"
      },
      "source": [
        "Docstring is a description of the function. You can add it by using 3 \""
      ]
    },
    {
      "cell_type": "code",
      "metadata": {
        "id": "WXUXQRkll2Qd",
        "colab_type": "code",
        "colab": {}
      },
      "source": [
        "def add(x, y):\n",
        "    \"\"\"Return x plus y\"\"\"\n",
        "    return x + y"
      ],
      "execution_count": 0,
      "outputs": []
    },
    {
      "cell_type": "code",
      "metadata": {
        "id": "XIDA2rLUuN6N",
        "colab_type": "code",
        "colab": {}
      },
      "source": [
        "def jay_chou(year, profession = 'singer'):\n",
        "  ''' \n",
        "  This is a function to explain jaychou is a good singer before 2010, otherwise he sucks\n",
        "  \n",
        "  arg:\n",
        "      year = numeric year\n",
        "      profession: can be any string\n",
        "  \n",
        "  '''\n",
        "  if year > 2010:\n",
        "      return \"his song sucks after 2010\"\n",
        "      \n",
        "  if profession == 'singer':\n",
        "      return \"is cool\"\n",
        "  else:\n",
        "      return \"he sucks when he doesn't sing\""
      ],
      "execution_count": 0,
      "outputs": []
    },
    {
      "cell_type": "code",
      "metadata": {
        "id": "06Z5GGmXuhef",
        "colab_type": "code",
        "colab": {}
      },
      "source": [
        "# and you can call by using a question mark\n",
        "\n",
        "jay_chou?"
      ],
      "execution_count": 0,
      "outputs": []
    },
    {
      "cell_type": "markdown",
      "metadata": {
        "id": "kFamRP1Ml5Tr",
        "colab_type": "text"
      },
      "source": [
        "#### Example 6.2.2\n",
        "\n",
        "a) Try write a function of suming 2 number\n",
        "\n",
        "b) Try write a function of multiplying 2 number\n",
        "\n",
        "c) Try write a function with an extra variable, that if mode = \"sum\", do the sum of 2 number. If mode = \"multiply\", do the multiply of 2 number\n",
        "\n",
        "d) Try set the default mode as sum\n",
        "\n",
        "e) Try use a doc string to explain that"
      ]
    },
    {
      "cell_type": "markdown",
      "metadata": {
        "id": "2S4sCMemOJ-K",
        "colab_type": "text"
      },
      "source": [
        "## 6.3.0 Local and Global Scope"
      ]
    },
    {
      "cell_type": "markdown",
      "metadata": {
        "id": "sz4ZhVcAOhfx",
        "colab_type": "text"
      },
      "source": [
        "In python, there are local variables and global variables. \n",
        "\n",
        "Local Variables Cannot Be Used in the Global Scope"
      ]
    },
    {
      "cell_type": "markdown",
      "metadata": {
        "id": "aJZzdAQXOs_9",
        "colab_type": "text"
      },
      "source": [
        "#### Example 6.3.0 Local and Global Variables with the Same Name"
      ]
    },
    {
      "cell_type": "code",
      "metadata": {
        "id": "ddTYafEdyjAY",
        "colab_type": "code",
        "outputId": "c6694bb6-52a9-4583-8d53-bb2c7a916271",
        "colab": {
          "base_uri": "https://localhost:8080/",
          "height": 34
        }
      },
      "source": [
        "x = 10\n",
        "\n",
        "def something():\n",
        "  x = 100\n",
        "  return x\n",
        "\n",
        "print(x)"
      ],
      "execution_count": 0,
      "outputs": [
        {
          "output_type": "stream",
          "text": [
            "10\n"
          ],
          "name": "stdout"
        }
      ]
    },
    {
      "cell_type": "markdown",
      "metadata": {
        "id": "HDaRegomPCD8",
        "colab_type": "text"
      },
      "source": [
        "## 6.4.0 Error Handling"
      ]
    },
    {
      "cell_type": "markdown",
      "metadata": {
        "id": "4wAcJfXPUqfL",
        "colab_type": "text"
      },
      "source": [
        "To handle Error, you can use try & except"
      ]
    },
    {
      "cell_type": "code",
      "metadata": {
        "id": "qs4QZGV4VEBI",
        "colab_type": "code",
        "outputId": "d2281fd0-10b2-42ff-9c26-f3fa9372cbcb",
        "colab": {
          "base_uri": "https://localhost:8080/",
          "height": 34
        }
      },
      "source": [
        "\n",
        "try:\n",
        "  asdfasdfasdf\n",
        "except:\n",
        "  print(\"this is an error!\")\n"
      ],
      "execution_count": 0,
      "outputs": [
        {
          "output_type": "stream",
          "text": [
            "this is an error!\n"
          ],
          "name": "stdout"
        }
      ]
    },
    {
      "cell_type": "markdown",
      "metadata": {
        "id": "sXV5X5QkcZWi",
        "colab_type": "text"
      },
      "source": [
        "# 7.0.0 Python Recap & advance technique\n"
      ]
    },
    {
      "cell_type": "markdown",
      "metadata": {
        "id": "D2vRhPSScpef",
        "colab_type": "text"
      },
      "source": [
        "![Image of Yaktocat](https://cdn.intellipaat.com/mediaFiles/2018/11/Python-Basics-Cheat-Sheet-1-1.png)\n"
      ]
    },
    {
      "cell_type": "markdown",
      "metadata": {
        "id": "-JpPxFBSasLm",
        "colab_type": "text"
      },
      "source": [
        "## 7.1.0 Loop recap"
      ]
    },
    {
      "cell_type": "markdown",
      "metadata": {
        "id": "oB5rMvYOasLn",
        "colab_type": "text"
      },
      "source": [
        "- You can loop through a list, a string or a range(index)\n",
        "- If you want to add all operation in a loop into a list, you can throw them inside an empty list"
      ]
    },
    {
      "cell_type": "code",
      "metadata": {
        "id": "saxonqpgasLo",
        "colab_type": "code",
        "colab": {}
      },
      "source": [
        "x = 'patrick'"
      ],
      "execution_count": 0,
      "outputs": []
    },
    {
      "cell_type": "code",
      "metadata": {
        "id": "W3hIkx0AasLs",
        "colab_type": "code",
        "outputId": "8f948414-a7ed-4084-83d5-06c6480dc5e7",
        "colab": {}
      },
      "source": [
        "for i in range(len(x)):\n",
        "    print(x[i])"
      ],
      "execution_count": 0,
      "outputs": [
        {
          "output_type": "stream",
          "text": [
            "p\n",
            "a\n",
            "t\n",
            "r\n",
            "i\n",
            "c\n",
            "k\n"
          ],
          "name": "stdout"
        }
      ]
    },
    {
      "cell_type": "code",
      "metadata": {
        "id": "UG-vypceasLx",
        "colab_type": "code",
        "outputId": "eb0ebbff-8a3e-4f29-cf31-ff4613e0cff0",
        "colab": {}
      },
      "source": [
        "#list\n",
        "x = 'patrick'\n",
        "for i in range(len(x)):\n",
        "    print(i)\n"
      ],
      "execution_count": 0,
      "outputs": [
        {
          "output_type": "stream",
          "text": [
            "0\n",
            "1\n",
            "2\n",
            "3\n",
            "4\n",
            "5\n",
            "6\n"
          ],
          "name": "stdout"
        }
      ]
    },
    {
      "cell_type": "code",
      "metadata": {
        "id": "SUAmLYsSasL0",
        "colab_type": "code",
        "colab": {}
      },
      "source": [
        "#list\n",
        "x = [1,2,3]\n",
        "for i in x:\n",
        "    print(i*2)\n",
        "\n",
        "#string\n",
        "x = 'data'\n",
        "for i in x:\n",
        "    print(i)\n",
        "    \n",
        "#index\n",
        "for i in range(3):\n",
        "    print(i)"
      ],
      "execution_count": 0,
      "outputs": []
    },
    {
      "cell_type": "code",
      "metadata": {
        "scrolled": true,
        "id": "gOKgndxqasL2",
        "colab_type": "code",
        "outputId": "011dde99-6d48-4058-87cb-1c7fee3141a0",
        "colab": {}
      },
      "source": [
        "#throw it to empty list\n",
        "empty_list = [] #this is an empty list\n",
        "for i in range(3):\n",
        "    empty_list.append(i)\n",
        "empty_list"
      ],
      "execution_count": 0,
      "outputs": [
        {
          "output_type": "execute_result",
          "data": {
            "text/plain": [
              "[0, 1, 2]"
            ]
          },
          "metadata": {
            "tags": []
          },
          "execution_count": 6
        }
      ]
    },
    {
      "cell_type": "markdown",
      "metadata": {
        "id": "DgRoBN8rasL6",
        "colab_type": "text"
      },
      "source": [
        "#### Exercise 7.1.1"
      ]
    },
    {
      "cell_type": "markdown",
      "metadata": {
        "id": "eHdlgwt1asL6",
        "colab_type": "text"
      },
      "source": [
        "Write a loop to multiply every number by 3 in list [1,2,3,4]. Output your answer in a list"
      ]
    },
    {
      "cell_type": "code",
      "metadata": {
        "id": "GD1z84JAasL7",
        "colab_type": "code",
        "outputId": "a1e4d653-ab71-4015-8423-24edcbda7923",
        "colab": {}
      },
      "source": [
        "x = [1,2,3,4]\n",
        "#your code here\n",
        "\n",
        "for i in x:\n",
        "    print(i*3)"
      ],
      "execution_count": 0,
      "outputs": [
        {
          "output_type": "stream",
          "text": [
            "3\n",
            "6\n",
            "9\n",
            "12\n"
          ],
          "name": "stdout"
        }
      ]
    },
    {
      "cell_type": "code",
      "metadata": {
        "id": "UdjewZ9xasL-",
        "colab_type": "code",
        "outputId": "4b68197a-fc80-4c40-9bcf-7bbb50b2f8a6",
        "colab": {}
      },
      "source": [
        "[(i*3)  for i in x if i!= 2]"
      ],
      "execution_count": 0,
      "outputs": [
        {
          "output_type": "execute_result",
          "data": {
            "text/plain": [
              "[3, 9, 12]"
            ]
          },
          "metadata": {
            "tags": []
          },
          "execution_count": 15
        }
      ]
    },
    {
      "cell_type": "code",
      "metadata": {
        "id": "uhF_nkFMasMC",
        "colab_type": "code",
        "outputId": "aba4cc79-e95f-4230-9e03-54e463e4d825",
        "colab": {}
      },
      "source": [
        "[(i*3) if i!=2 else i for i in x ]"
      ],
      "execution_count": 0,
      "outputs": [
        {
          "output_type": "execute_result",
          "data": {
            "text/plain": [
              "[3, 2, 9, 12]"
            ]
          },
          "metadata": {
            "tags": []
          },
          "execution_count": 14
        }
      ]
    },
    {
      "cell_type": "markdown",
      "metadata": {
        "id": "cyxlKZtXasMG",
        "colab_type": "text"
      },
      "source": [
        "### 7.1.2 list comprehension"
      ]
    },
    {
      "cell_type": "markdown",
      "metadata": {
        "id": "FQGVbK48asMH",
        "colab_type": "text"
      },
      "source": [
        "- In python, there is a efficient way to write loop, which is called the list comprehension. It simply \"flatten\" the for loop into a one liner. \n",
        "- Notice that it is bounded by a square bracket? square bracket is a sign for a 'list', and it is there because list comprehension will always output as a list!"
      ]
    },
    {
      "cell_type": "markdown",
      "metadata": {
        "id": "YcfutJ_UasMH",
        "colab_type": "text"
      },
      "source": [
        "![Image of Yaktocat](http://python-3-patterns-idioms-test.readthedocs.io/en/latest/_images/listComprehensions.gif)\n",
        "\n"
      ]
    },
    {
      "cell_type": "code",
      "metadata": {
        "id": "xsjNHRUBasMI",
        "colab_type": "code",
        "colab": {}
      },
      "source": [
        "empty_list = []\n",
        "for i in [1,2,3]:\n",
        "    empty_list.append(i*2)"
      ],
      "execution_count": 0,
      "outputs": []
    },
    {
      "cell_type": "code",
      "metadata": {
        "id": "sIu5mCKzasML",
        "colab_type": "code",
        "outputId": "ba2c7f40-1d22-496f-cb51-d6f5adf5b0e0",
        "colab": {}
      },
      "source": [
        "[i*2 for i in [1,2,3]]"
      ],
      "execution_count": 0,
      "outputs": [
        {
          "output_type": "execute_result",
          "data": {
            "text/plain": [
              "[2, 4, 6]"
            ]
          },
          "metadata": {
            "tags": []
          },
          "execution_count": 10
        }
      ]
    },
    {
      "cell_type": "code",
      "metadata": {
        "id": "JM5itL0oasMO",
        "colab_type": "code",
        "outputId": "84a21452-2651-4266-80bf-1d5ee7b3d3a4",
        "colab": {}
      },
      "source": [
        "firstexample = [i*2 for i in [1,2,3]]\n",
        "print(firstexample)\n",
        "\n",
        "secondexample = [i for i in 'data']\n",
        "print(secondexample)\n",
        "\n",
        "thirdexample = [i for i in range(3)]\n",
        "print(thirdexample)"
      ],
      "execution_count": 0,
      "outputs": [
        {
          "output_type": "stream",
          "text": [
            "[2, 4, 6]\n",
            "['d', 'a', 't', 'a']\n",
            "[0, 1, 2]\n"
          ],
          "name": "stdout"
        }
      ]
    },
    {
      "cell_type": "markdown",
      "metadata": {
        "id": "kF6pRllYasMS",
        "colab_type": "text"
      },
      "source": [
        "#### Example 7.1.2 Convert loop to list comprehension"
      ]
    },
    {
      "cell_type": "markdown",
      "metadata": {
        "id": "eqVn5WGDasMT",
        "colab_type": "text"
      },
      "source": [
        "- Write a for loop that loop from 0 to 3. Skip \"2\" in the loop\n",
        "- Transform this loop to list comprehension"
      ]
    },
    {
      "cell_type": "code",
      "metadata": {
        "id": "xNAxyC6_asMV",
        "colab_type": "code",
        "outputId": "622bbade-96e2-4e46-ad7b-7bfc01bf93c5",
        "colab": {}
      },
      "source": [
        "empty_list = []\n",
        "for i in range(4):\n",
        "    if(i!=2):\n",
        "        empty_list.append(i)\n",
        "empty_list\n"
      ],
      "execution_count": 0,
      "outputs": [
        {
          "output_type": "execute_result",
          "data": {
            "text/plain": [
              "[0, 1, 3]"
            ]
          },
          "metadata": {
            "tags": []
          },
          "execution_count": 17
        }
      ]
    },
    {
      "cell_type": "code",
      "metadata": {
        "id": "Bg1oTeONasMa",
        "colab_type": "code",
        "outputId": "66f00654-e3da-40ac-ad34-946664ea4efe",
        "colab": {}
      },
      "source": [
        "['double' if i==2 else i for i in range(4)  ]"
      ],
      "execution_count": 0,
      "outputs": [
        {
          "output_type": "execute_result",
          "data": {
            "text/plain": [
              "[0, 1, 'double', 3]"
            ]
          },
          "metadata": {
            "tags": []
          },
          "execution_count": 14
        }
      ]
    },
    {
      "cell_type": "markdown",
      "metadata": {
        "id": "MNtoS5oIasMe",
        "colab_type": "text"
      },
      "source": [
        "- Write a for loop that loop from 0 to 3. **Convert '2' into '_'**\n",
        "- Transform this loop to list comprehension\n"
      ]
    },
    {
      "cell_type": "code",
      "metadata": {
        "id": "1iQOGvZgasMf",
        "colab_type": "code",
        "outputId": "7fca8981-9a77-4232-f4ed-f7c749991574",
        "colab": {}
      },
      "source": [
        "empty_list = []\n",
        "for i in range(4):\n",
        "    if(i!=2):\n",
        "        empty_list.append(i)\n",
        "    else:\n",
        "        empty_list.append('_')\n",
        "empty_list"
      ],
      "execution_count": 0,
      "outputs": [
        {
          "output_type": "execute_result",
          "data": {
            "text/plain": [
              "[0, 1, '_', 3]"
            ]
          },
          "metadata": {
            "tags": []
          },
          "execution_count": 15
        }
      ]
    },
    {
      "cell_type": "code",
      "metadata": {
        "id": "xlPTF_rIasMj",
        "colab_type": "code",
        "colab": {}
      },
      "source": [
        "#your code here"
      ],
      "execution_count": 0,
      "outputs": []
    },
    {
      "cell_type": "markdown",
      "metadata": {
        "id": "R6gfeCjgasMm",
        "colab_type": "text"
      },
      "source": [
        "#### Exercise 7.1.2 Convert loop to list comprehension"
      ]
    },
    {
      "cell_type": "markdown",
      "metadata": {
        "id": "0PVtiua2asMn",
        "colab_type": "text"
      },
      "source": [
        "convert below to list comprehension"
      ]
    },
    {
      "cell_type": "code",
      "metadata": {
        "id": "Lf9mPdbPasMn",
        "colab_type": "code",
        "outputId": "0c18adaf-a634-4883-fa8d-d54b6fa4d670",
        "colab": {}
      },
      "source": [
        "empty_list = []\n",
        "for i  in 'abc':\n",
        "    if i=='a':\n",
        "        empty_list.append('b')\n",
        "    else:\n",
        "        empty_list.append(i)\n",
        "empty_list"
      ],
      "execution_count": 0,
      "outputs": [
        {
          "output_type": "execute_result",
          "data": {
            "text/plain": [
              "['b', 'b', 'c']"
            ]
          },
          "metadata": {
            "tags": []
          },
          "execution_count": 35
        }
      ]
    },
    {
      "cell_type": "code",
      "metadata": {
        "id": "j-vp-4QVasMr",
        "colab_type": "code",
        "colab": {}
      },
      "source": [
        "#your code here"
      ],
      "execution_count": 0,
      "outputs": []
    },
    {
      "cell_type": "markdown",
      "metadata": {
        "id": "1qQd25zAasMt",
        "colab_type": "text"
      },
      "source": [
        "#### Example 7.1.3 Advance list comprehension"
      ]
    },
    {
      "cell_type": "markdown",
      "metadata": {
        "id": "mxoAIODFasMu",
        "colab_type": "text"
      },
      "source": [
        "- Given \n",
        "x = ['a','b','c','d']\n",
        "y = [0,1,2,3]\n",
        "c = 'c'\n",
        "- if x = c , replace x with the corresponding position in y\n",
        "- Transform the loop to list comprehension"
      ]
    },
    {
      "cell_type": "code",
      "metadata": {
        "id": "GHv0jK3TasMv",
        "colab_type": "code",
        "outputId": "d5a7a74f-e336-4696-d07c-c95e040bc9ed",
        "colab": {}
      },
      "source": [
        "y = [0,1,2,3]\n",
        "x = ['a','b','c','d']\n",
        "c = 'c'\n",
        "\n",
        "empty_list = []\n",
        "for i in range(len(y)):\n",
        "    if(x[i]== 'c'):\n",
        "        empty_list.append(y[i])\n",
        "    else:\n",
        "        empty_list.append(x[i])\n",
        "print(empty_list)"
      ],
      "execution_count": 0,
      "outputs": [
        {
          "output_type": "stream",
          "text": [
            "['a', 'b', 2, 'd']\n"
          ],
          "name": "stdout"
        }
      ]
    },
    {
      "cell_type": "code",
      "metadata": {
        "id": "XSXJxji1asM0",
        "colab_type": "code",
        "outputId": "419a3ed2-acfd-45bd-d5b7-b3fedb0eb2ea",
        "colab": {}
      },
      "source": [
        "[y[i] if x[i]==c else x[i] for i in  range(len(y))]"
      ],
      "execution_count": 0,
      "outputs": [
        {
          "output_type": "execute_result",
          "data": {
            "text/plain": [
              "['a', 'b', 2, 'd']"
            ]
          },
          "metadata": {
            "tags": []
          },
          "execution_count": 42
        }
      ]
    },
    {
      "cell_type": "markdown",
      "metadata": {
        "id": "80SCBQmoasM3",
        "colab_type": "text"
      },
      "source": [
        "#### Exercise 7.1.3 Advance list comprehension"
      ]
    },
    {
      "cell_type": "markdown",
      "metadata": {
        "id": "_zpzz61_asM6",
        "colab_type": "text"
      },
      "source": [
        "- Given name = 'data',currentpick = ['_','_','t','_'], playerguess = 'd'\n",
        "- Write a for loop that loop index. Convert '_' to 'd' in the correct position\n",
        "- Transform this loop to list comprehension"
      ]
    },
    {
      "cell_type": "code",
      "metadata": {
        "id": "MJ7WuJnuasM7",
        "colab_type": "code",
        "colab": {}
      },
      "source": [
        "#your code here"
      ],
      "execution_count": 0,
      "outputs": []
    },
    {
      "cell_type": "markdown",
      "metadata": {
        "id": "Xg1TH-qqasM9",
        "colab_type": "text"
      },
      "source": [
        "## 7.2.0 While loop recap"
      ]
    },
    {
      "cell_type": "code",
      "metadata": {
        "id": "Gor7f_fVasM-",
        "colab_type": "code",
        "outputId": "ca427234-f1f6-4696-fb23-d2778767b8aa",
        "colab": {}
      },
      "source": [
        "n = 10\n",
        "while n > 5:\n",
        "    # do sth\n",
        "    print(n)\n",
        "    n = n - 1\n",
        "    "
      ],
      "execution_count": 0,
      "outputs": [
        {
          "output_type": "stream",
          "text": [
            "10\n",
            "9\n",
            "8\n",
            "7\n",
            "6\n"
          ],
          "name": "stdout"
        }
      ]
    },
    {
      "cell_type": "code",
      "metadata": {
        "id": "LC3gTLxmasNB",
        "colab_type": "code",
        "outputId": "86b8272f-387d-4782-c708-8e91b97fc703",
        "colab": {}
      },
      "source": [
        "live = 8\n",
        "while  live>0:\n",
        "    print(live)\n",
        "    live = live-1"
      ],
      "execution_count": 0,
      "outputs": [
        {
          "output_type": "stream",
          "text": [
            "8\n",
            "7\n",
            "6\n",
            "5\n",
            "4\n",
            "3\n",
            "2\n",
            "1\n"
          ],
          "name": "stdout"
        }
      ]
    },
    {
      "cell_type": "markdown",
      "metadata": {
        "id": "SpjQ4Y7fasNE",
        "colab_type": "text"
      },
      "source": [
        "#### Example 7.2.1  While loop"
      ]
    },
    {
      "cell_type": "markdown",
      "metadata": {
        "id": "mYX8j_IjasNE",
        "colab_type": "text"
      },
      "source": [
        "- write a while loop that breaks if life  =3"
      ]
    },
    {
      "cell_type": "code",
      "metadata": {
        "scrolled": true,
        "id": "LL5xxBT0asNG",
        "colab_type": "code",
        "outputId": "16a8c159-1561-453c-b7ec-fd62f0648c11",
        "colab": {}
      },
      "source": [
        "live = 5\n",
        "while  live>0:\n",
        "    print(live)\n",
        "    if live==3:\n",
        "        break\n",
        "    live = live-1"
      ],
      "execution_count": 0,
      "outputs": [
        {
          "output_type": "stream",
          "text": [
            "5\n",
            "4\n",
            "3\n"
          ],
          "name": "stdout"
        }
      ]
    },
    {
      "cell_type": "markdown",
      "metadata": {
        "id": "k4ugVkVTasNL",
        "colab_type": "text"
      },
      "source": [
        "#### Exercise 7.2.1 While loop"
      ]
    },
    {
      "cell_type": "markdown",
      "metadata": {
        "id": "odT0djcRasNL",
        "colab_type": "text"
      },
      "source": [
        "- Write a while loop that go from live = 0 to live = 10. Stop the loop if live >10\n",
        "- Try to write an infinite loop. How can you do that?"
      ]
    },
    {
      "cell_type": "code",
      "metadata": {
        "id": "ctubMjF5asNM",
        "colab_type": "code",
        "colab": {}
      },
      "source": [
        "#Your code here\n",
        "\n"
      ],
      "execution_count": 0,
      "outputs": []
    },
    {
      "cell_type": "markdown",
      "metadata": {
        "id": "2APZPg46asNO",
        "colab_type": "text"
      },
      "source": [
        "## Test 7.3.0  Test of concept"
      ]
    },
    {
      "cell_type": "markdown",
      "metadata": {
        "id": "QsTduYi8asNO",
        "colab_type": "text"
      },
      "source": [
        "Q1 Can you fix the bug?"
      ]
    },
    {
      "cell_type": "code",
      "metadata": {
        "id": "LI2RSfT5asNP",
        "colab_type": "code",
        "outputId": "08e12c1b-9bd5-48db-cb60-a06bd92c1a16",
        "colab": {}
      },
      "source": [
        "for i in [1,2,3,4]\n",
        "    if i ==3:\n",
        "        print('three')\n",
        "    else:\n",
        "        print(i)"
      ],
      "execution_count": 0,
      "outputs": [
        {
          "output_type": "error",
          "ename": "SyntaxError",
          "evalue": "invalid syntax (<ipython-input-19-fe84ed5e44cd>, line 1)",
          "traceback": [
            "\u001b[0;36m  File \u001b[0;32m\"<ipython-input-19-fe84ed5e44cd>\"\u001b[0;36m, line \u001b[0;32m1\u001b[0m\n\u001b[0;31m    for i in [1,2,3,4]\u001b[0m\n\u001b[0m                      ^\u001b[0m\n\u001b[0;31mSyntaxError\u001b[0m\u001b[0;31m:\u001b[0m invalid syntax\n"
          ]
        }
      ]
    },
    {
      "cell_type": "markdown",
      "metadata": {
        "id": "w-RR2P_qasNR",
        "colab_type": "text"
      },
      "source": [
        "Q2 In the python memory system: \n",
        "- what is variable s after you execute the code?\n",
        "- what is variable x after you execute the code?\n",
        "- which variable is assigned as 24?\n"
      ]
    },
    {
      "cell_type": "code",
      "metadata": {
        "id": "Wf1qcdH0asNS",
        "colab_type": "code",
        "outputId": "9e8feb9b-033d-4e47-b2d1-dd04d82e985f",
        "colab": {}
      },
      "source": [
        "x = 12\n",
        "s = 1\n",
        "def this_is_a_function(x):\n",
        "    s = 10\n",
        "    x = x*2+s\n",
        "    print(x)\n",
        "    return(x)\n",
        "\n",
        "x = this_is_a_function(7)\n",
        "x"
      ],
      "execution_count": 0,
      "outputs": [
        {
          "output_type": "stream",
          "text": [
            "24\n"
          ],
          "name": "stdout"
        },
        {
          "output_type": "execute_result",
          "data": {
            "text/plain": [
              "24"
            ]
          },
          "metadata": {
            "tags": []
          },
          "execution_count": 24
        }
      ]
    },
    {
      "cell_type": "markdown",
      "metadata": {
        "id": "okrcDC6UasNV",
        "colab_type": "text"
      },
      "source": [
        "Q3 Playing with list\n",
        "- How do you get the second last object on the list?\n",
        "- how do I get the length of the list?"
      ]
    },
    {
      "cell_type": "code",
      "metadata": {
        "id": "SrkEa4w2asNV",
        "colab_type": "code",
        "colab": {}
      },
      "source": [
        "x = range(31,9999)\n",
        "#second last?"
      ],
      "execution_count": 0,
      "outputs": []
    },
    {
      "cell_type": "markdown",
      "metadata": {
        "id": "DpjlWAZBasNa",
        "colab_type": "text"
      },
      "source": [
        "Q4 \n",
        "- How to concatenate list a & b? concatenate them and name it c\n",
        "- now, multiple every item on the new list by 3, and put them on a list called d\n"
      ]
    },
    {
      "cell_type": "code",
      "metadata": {
        "id": "rmqhAr_nasNb",
        "colab_type": "code",
        "colab": {}
      },
      "source": [
        "a = [1,2,3]\n",
        "b = [4,5,6]\n"
      ],
      "execution_count": 0,
      "outputs": []
    },
    {
      "cell_type": "code",
      "metadata": {
        "id": "V8wN5CxUasNg",
        "colab_type": "code",
        "colab": {}
      },
      "source": [
        "# Your code here"
      ],
      "execution_count": 0,
      "outputs": []
    },
    {
      "cell_type": "code",
      "metadata": {
        "id": "9ZR1k6CEasNp",
        "colab_type": "code",
        "outputId": "2967e050-c6bf-4d58-8aa1-b7d32363d903",
        "colab": {}
      },
      "source": [
        "import numpy as np\n",
        "# Your code here\n"
      ],
      "execution_count": 0,
      "outputs": [
        {
          "output_type": "execute_result",
          "data": {
            "text/plain": [
              "array([ 3,  6,  9, 12, 15, 18])"
            ]
          },
          "metadata": {
            "tags": []
          },
          "execution_count": 41
        }
      ]
    },
    {
      "cell_type": "markdown",
      "metadata": {
        "id": "1M9XAPDMasNs",
        "colab_type": "text"
      },
      "source": [
        "Q5 Can you fix the bug? I want to concatenate x and y"
      ]
    },
    {
      "cell_type": "code",
      "metadata": {
        "id": "bblWiqBjasNt",
        "colab_type": "code",
        "outputId": "f139fa29-3962-4097-b5fd-426778663b68",
        "colab": {
          "base_uri": "https://localhost:8080/",
          "height": 198
        }
      },
      "source": [
        "x = [1,2,3]\n",
        "y = 4\n",
        "x +y"
      ],
      "execution_count": 1,
      "outputs": [
        {
          "output_type": "error",
          "ename": "TypeError",
          "evalue": "ignored",
          "traceback": [
            "\u001b[0;31m---------------------------------------------------------------------------\u001b[0m",
            "\u001b[0;31mTypeError\u001b[0m                                 Traceback (most recent call last)",
            "\u001b[0;32m<ipython-input-1-0cac11abaaf1>\u001b[0m in \u001b[0;36m<module>\u001b[0;34m()\u001b[0m\n\u001b[1;32m      1\u001b[0m \u001b[0mx\u001b[0m \u001b[0;34m=\u001b[0m \u001b[0;34m[\u001b[0m\u001b[0;36m1\u001b[0m\u001b[0;34m,\u001b[0m\u001b[0;36m2\u001b[0m\u001b[0;34m,\u001b[0m\u001b[0;36m3\u001b[0m\u001b[0;34m]\u001b[0m\u001b[0;34m\u001b[0m\u001b[0;34m\u001b[0m\u001b[0m\n\u001b[1;32m      2\u001b[0m \u001b[0my\u001b[0m \u001b[0;34m=\u001b[0m \u001b[0;36m4\u001b[0m\u001b[0;34m\u001b[0m\u001b[0;34m\u001b[0m\u001b[0m\n\u001b[0;32m----> 3\u001b[0;31m \u001b[0mx\u001b[0m \u001b[0;34m+\u001b[0m\u001b[0my\u001b[0m\u001b[0;34m\u001b[0m\u001b[0;34m\u001b[0m\u001b[0m\n\u001b[0m",
            "\u001b[0;31mTypeError\u001b[0m: can only concatenate list (not \"int\") to list"
          ]
        }
      ]
    },
    {
      "cell_type": "markdown",
      "metadata": {
        "id": "yE-sEPLZasNw",
        "colab_type": "text"
      },
      "source": [
        "Q6 can you fix the bug?"
      ]
    },
    {
      "cell_type": "code",
      "metadata": {
        "scrolled": true,
        "id": "KwEXm-1BasNw",
        "colab_type": "code",
        "outputId": "7e917574-cdca-4e33-dd44-db0da12f9691",
        "colab": {
          "base_uri": "https://localhost:8080/",
          "height": 130
        }
      },
      "source": [
        "[a for a in [1,2,3] if a==3 else '_'  ]"
      ],
      "execution_count": 2,
      "outputs": [
        {
          "output_type": "error",
          "ename": "SyntaxError",
          "evalue": "ignored",
          "traceback": [
            "\u001b[0;36m  File \u001b[0;32m\"<ipython-input-2-d764de5b0002>\"\u001b[0;36m, line \u001b[0;32m1\u001b[0m\n\u001b[0;31m    [a for a in [1,2,3] if a==3 else '_'  ]\u001b[0m\n\u001b[0m                                   ^\u001b[0m\n\u001b[0;31mSyntaxError\u001b[0m\u001b[0;31m:\u001b[0m invalid syntax\n"
          ]
        }
      ]
    },
    {
      "cell_type": "markdown",
      "metadata": {
        "id": "aO942k97asNz",
        "colab_type": "text"
      },
      "source": [
        "Q7 Can you fix the bug?"
      ]
    },
    {
      "cell_type": "code",
      "metadata": {
        "id": "or-BfdM4asNz",
        "colab_type": "code",
        "outputId": "ff0e2e77-4900-45c7-fbba-a3fd7fd99113",
        "colab": {
          "base_uri": "https://localhost:8080/",
          "height": 130
        }
      },
      "source": [
        "[a  if a==3 for a in [1,2,3]   ]"
      ],
      "execution_count": 4,
      "outputs": [
        {
          "output_type": "error",
          "ename": "SyntaxError",
          "evalue": "ignored",
          "traceback": [
            "\u001b[0;36m  File \u001b[0;32m\"<ipython-input-4-551536c4ea25>\"\u001b[0;36m, line \u001b[0;32m1\u001b[0m\n\u001b[0;31m    [a  if a==3 for a in [1,2,3]   ]\u001b[0m\n\u001b[0m                  ^\u001b[0m\n\u001b[0;31mSyntaxError\u001b[0m\u001b[0;31m:\u001b[0m invalid syntax\n"
          ]
        }
      ]
    },
    {
      "cell_type": "code",
      "metadata": {
        "id": "eRK3pr2uasN3",
        "colab_type": "code",
        "colab": {}
      },
      "source": [
        ""
      ],
      "execution_count": 0,
      "outputs": []
    },
    {
      "cell_type": "markdown",
      "metadata": {
        "id": "8af_oltBc1Sb",
        "colab_type": "text"
      },
      "source": [
        "## Challenge 7.4.0"
      ]
    },
    {
      "cell_type": "markdown",
      "metadata": {
        "colab_type": "text",
        "id": "YSV2Z-neck1H"
      },
      "source": [
        "#### Challenge 7.4.1\n",
        "\n",
        "Construct a function that returns all the divisors of the number the user inputs as a list."
      ]
    },
    {
      "cell_type": "markdown",
      "metadata": {
        "colab_type": "text",
        "id": "FRrwOEGPck1H"
      },
      "source": [
        " #### Challenge 7.4.2\n",
        " \n",
        " x = [1, 1, 2, 3, 5, 8, 13, 21, 34, 55, 89]\n",
        "\n",
        "a) write a program that prints out all the elements of the list that are less than 5.\n",
        "\n",
        "\n",
        "b) Instead of printing the elements one by one, make a new list that has all the elements less than 5 from this list in it and print out this new list.\n",
        "\n",
        "\n",
        "c) Write this in one line of Python.\n",
        "\n",
        "\n",
        "d)Ask the user for a number and return a list that contains only elements from the original list a that are smaller than that number given by the user.\n"
      ]
    },
    {
      "cell_type": "markdown",
      "metadata": {
        "colab_type": "text",
        "id": "sYFNVtdpck1I"
      },
      "source": [
        "#### Challenge 7.4.3\n",
        "\n",
        "Write a program that asks the user how many Fibonnaci numbers to generate and then generates them. Take this opportunity to think about how you can use functions. Make sure to ask the user to enter the number of numbers in the sequence to generate.(Hint: The Fibonnaci seqence is a sequence of numbers where the next number in the sequence is the sum of the previous two numbers in the sequence. The sequence looks like this: 1, 1, 2, 3, 5, 8, 13, …)"
      ]
    },
    {
      "cell_type": "markdown",
      "metadata": {
        "colab_type": "text",
        "id": "y58S5m9Uck1J"
      },
      "source": [
        "#### Challenge 7.4.4\n",
        "\n",
        "Generate a random number between 1 and 20 (including 1 and 20). Ask the user to guess the number, then tell them whether they guessed too low, too high, or exactly right. (Hint: remember to use the user input lessons from the very first exercise)\n",
        "\n",
        "Extras:\n",
        "\n",
        "Keep the game going until the user types “exit”\n",
        "Keep track of how many guesses the user has taken, and when the game ends, print this out."
      ]
    },
    {
      "cell_type": "code",
      "metadata": {
        "id": "8wf_Gp-7dXaY",
        "colab_type": "code",
        "outputId": "71636fa5-7f7c-4a06-a3c0-cae6c6022adb",
        "colab": {
          "base_uri": "https://localhost:8080/",
          "height": 289
        }
      },
      "source": [
        "# This is a guess the number game.\n",
        "import random\n",
        "secretNumber = random.randint(1, 20)\n",
        "print('I am thinking of a number between 1 and 20.')\n",
        "\n",
        "# Ask the player to guess 6 times.\n",
        "for guessesTaken in range(1, 7):\n",
        "    print('Take a guess.')\n",
        "    guess = int(input())\n",
        "\n",
        "    if guess < secretNumber:\n",
        "        print('Your guess is too low.')\n",
        "    elif guess > secretNumber:\n",
        "        print('Your guess is too high.')\n",
        "    else:\n",
        "        break    # This condition is the correct guess!\n",
        "\n",
        "if guess == secretNumber:\n",
        "    print('Good job! You guessed my number in ' + str(guessesTaken) + ' guesses!')\n",
        "else:\n",
        "    print('Nope. The number I was thinking of was ' + str(secretNumber))\n",
        "#Let’s look at this code line by line, starting at the top.\n"
      ],
      "execution_count": 0,
      "outputs": [
        {
          "output_type": "stream",
          "text": [
            "I am thinking of a number between 1 and 20.\n",
            "Take a guess.\n",
            "10\n",
            "Your guess is too low.\n",
            "Take a guess.\n",
            "15\n",
            "Your guess is too low.\n",
            "Take a guess.\n",
            "18\n",
            "Your guess is too high.\n",
            "Take a guess.\n",
            "17\n",
            "Your guess is too high.\n",
            "Take a guess.\n",
            "16\n",
            "Good job! You guessed my number in 5 guesses!\n"
          ],
          "name": "stdout"
        }
      ]
    },
    {
      "cell_type": "markdown",
      "metadata": {
        "colab_type": "text",
        "id": "46gq-Fmnck1J"
      },
      "source": [
        "#### Challenge 7.4.5\n",
        "\n",
        "Hangman\n",
        "\n",
        "https://github.com/codeforhk/python_course/blob/master/py_class_2_Hangman_Breakdown.ipynb"
      ]
    },
    {
      "cell_type": "markdown",
      "metadata": {
        "colab_type": "text",
        "id": "Vdbh_gW_ck1P"
      },
      "source": [
        "## Take home exercise\n",
        "\n",
        "Finish Hangman!"
      ]
    }
  ]
}